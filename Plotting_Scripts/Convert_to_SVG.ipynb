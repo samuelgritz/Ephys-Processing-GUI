{
 "cells": [
  {
   "metadata": {
    "ExecuteTime": {
     "end_time": "2024-09-09T17:44:16.169117Z",
     "start_time": "2024-09-09T17:44:16.109548Z"
    }
   },
   "cell_type": "code",
   "source": [
    "from PIL import Image\n",
    "import potrace\n",
    "\n",
    "# Open PNG image using Pillow\n",
    "image = Image.open(\"/Users/samgritz/Desktop/DVC_Activity_example.png\").convert(\"L\")  # Convert to grayscale\n",
    "\n",
    "# Convert image to bitmap format (required for potrace)\n",
    "bitmap = potrace.Bitmap(image)\n",
    "path = bitmap.trace()\n",
    "\n",
    "# Create an SVG file\n",
    "with open(\"output_image.svg\", \"w\") as svg_file:\n",
    "    svg_file.write('<svg xmlns=\"http://www.w3.org/2000/svg\" version=\"1.1\">\\n')\n",
    "    \n",
    "    # Write path data from potrace to the SVG file\n",
    "    for curve in path:\n",
    "        svg_file.write(f'<path d=\"{curve}\" fill=\"black\"/>\\n')\n",
    "    \n",
    "    svg_file.write('</svg>')\n"
   ],
   "outputs": [
    {
     "ename": "ModuleNotFoundError",
     "evalue": "No module named 'potrace'",
     "output_type": "error",
     "traceback": [
      "\u001B[0;31m---------------------------------------------------------------------------\u001B[0m",
      "\u001B[0;31mModuleNotFoundError\u001B[0m                       Traceback (most recent call last)",
      "Cell \u001B[0;32mIn[7], line 2\u001B[0m\n\u001B[1;32m      1\u001B[0m \u001B[38;5;28;01mfrom\u001B[39;00m \u001B[38;5;21;01mPIL\u001B[39;00m \u001B[38;5;28;01mimport\u001B[39;00m Image\n\u001B[0;32m----> 2\u001B[0m \u001B[38;5;28;01mimport\u001B[39;00m \u001B[38;5;21;01mpotrace\u001B[39;00m\n\u001B[1;32m      4\u001B[0m \u001B[38;5;66;03m# Open PNG image using Pillow\u001B[39;00m\n\u001B[1;32m      5\u001B[0m image \u001B[38;5;241m=\u001B[39m Image\u001B[38;5;241m.\u001B[39mopen(\u001B[38;5;124m\"\u001B[39m\u001B[38;5;124m/Users/samgritz/Desktop/DVC_Activity_example.png\u001B[39m\u001B[38;5;124m\"\u001B[39m)\u001B[38;5;241m.\u001B[39mconvert(\u001B[38;5;124m\"\u001B[39m\u001B[38;5;124mL\u001B[39m\u001B[38;5;124m\"\u001B[39m)  \u001B[38;5;66;03m# Convert to grayscale\u001B[39;00m\n",
      "\u001B[0;31mModuleNotFoundError\u001B[0m: No module named 'potrace'"
     ]
    }
   ],
   "execution_count": 7
  },
  {
   "metadata": {},
   "cell_type": "code",
   "outputs": [],
   "execution_count": null,
   "source": ""
  }
 ],
 "metadata": {
  "kernelspec": {
   "display_name": "Python 3",
   "language": "python",
   "name": "python3"
  },
  "language_info": {
   "codemirror_mode": {
    "name": "ipython",
    "version": 3
   },
   "file_extension": ".py",
   "mimetype": "text/x-python",
   "name": "python",
   "nbconvert_exporter": "python",
   "pygments_lexer": "ipython3",
   "version": "3.10.13"
  }
 },
 "nbformat": 4,
 "nbformat_minor": 2
}
