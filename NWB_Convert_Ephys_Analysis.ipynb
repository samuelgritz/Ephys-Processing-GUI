{
 "cells": [
  {
   "cell_type": "markdown",
   "id": "d7fcab21",
   "metadata": {},
   "source": [
    "# Analysis of Ephys NWB files"
   ]
  },
  {
   "cell_type": "code",
   "execution_count": null,
   "id": "c823e868",
   "metadata": {},
   "outputs": [],
   "source": [
    "''' @article {R{\\\"u}bel2021.03.13.435173,\n",
    " author = {R{\\\"u}bel, Oliver and Tritt, Andrew and Ly, Ryan and Dichter, Benjamin K. and Ghosh, Satrajit and Niu, Lawrence and Soltesz, Ivan and Svoboda, Karel and Frank, Loren and Bouchard, Kristofer E.},\n",
    " title = {The Neurodata Without Borders ecosystem for neurophysiological data science},\n",
    " elocation-id = {2021.03.13.435173},\n",
    " year = {2021},\n",
    " doi = {10.1101/2021.03.13.435173},\n",
    " publisher = {Cold Spring Harbor Laboratory},\n",
    " abstract = {The neurophysiology of cells and tissues are monitored electrophysiologically and optically in diverse experiments and species, ranging from flies to humans. Understanding the brain requires integration of data across this diversity, and thus these data must be findable, accessible, interoperable, and reusable (FAIR). This requires a standard language for data and metadata that can coevolve with neuroscience. We describe design and implementation principles for a language for neurophysiology data. Our software (Neurodata Without Borders, NWB) defines and modularizes the interdependent, yet separable, components of a data language. We demonstrate NWB{\\textquoteright}s impact through unified description of neurophysiology data across diverse modalities and species. NWB exists in an ecosystem which includes data management, analysis, visualization, and archive tools. Thus, the NWB data language enables reproduction, interchange, and reuse of diverse neurophysiology data. More broadly, the design principles of NWB are generally applicable to enhance discovery across biology through data FAIRness.Competing Interest StatementThe authors have declared no competing interest.},\n",
    " URL = {https://www.biorxiv.org/content/early/2021/03/15/2021.03.13.435173},\n",
    " eprint = {https://www.biorxiv.org/content/early/2021/03/15/2021.03.13.435173.full.pdf},\n",
    " journal = {bioRxiv}\n",
    "} ''' "
   ]
  },
  {
   "cell_type": "markdown",
   "id": "5e09bb57",
   "metadata": {},
   "source": [
    "https://pynwb.readthedocs.io/en/stable/overview_citing.html <br>\n",
    "https://pynwb.readthedocs.io/en/stable/tutorials/index.html <br>\n",
    "https://pynwb.readthedocs.io/en/stable/tutorials/index.html <br>\n",
    "https://pynwb.readthedocs.io/en/stable/tutorials/domain/plot_icephys.html#sphx-glr-tutorials-domain-plot-icephys-py"
   ]
  },
  {
   "cell_type": "markdown",
   "id": "5fb0e38d",
   "metadata": {},
   "source": [
    "All of this analysis is done in the [conda activate Ephys_env] envirnment as some of the packages require older versions of python, etc."
   ]
  },
  {
   "cell_type": "code",
   "execution_count": 1,
   "id": "c30cd6a6",
   "metadata": {
    "scrolled": true
   },
   "outputs": [],
   "source": [
    "#%matplotlib inline\n",
    "#%matplotlib widget\n",
    "#%matplotlib notebook\n",
    "'''#TODO: create my own plotting utils - DO NOT use these! they are too long and complicated....'''\n",
    "# from plot_utils import *\n",
    "# from neuron_sim_utils import *\n",
    "import numpy as np\n",
    "import pandas\n",
    "import matplotlib.pyplot as plt\n",
    "#for pulling data for NWB files\n",
    "import pynwb \n",
    "from pynwb.icephys import VoltageClampStimulusSeries, VoltageClampSeries\n",
    "from pynwb import NWBHDF5IO\n",
    "from nwbwidgets import nwb2widget\n",
    "#for analysis of NWB files\n",
    "from scipy.signal import savgol_filter\n",
    "from sklearn.linear_model import LinearRegression\n",
    "from scipy.stats import linregress \n",
    "from scipy.signal import chirp, find_peaks, peak_widths\n",
    "import scipy\n",
    "import pandas as pd "
   ]
  },
  {
   "cell_type": "code",
   "execution_count": 2,
   "id": "93d28184",
   "metadata": {},
   "outputs": [
    {
     "name": "stdout",
     "output_type": "stream",
     "text": [
      "/Users/samgritz/Desktop/Rutgers/Milstein_Lab/Code/Ephys_Analysis/Ephys_Data\n"
     ]
    }
   ],
   "source": [
    "cd /Users/samgritz/Desktop/Rutgers/Milstein_Lab/Code/Ephys_Analysis/Ephys_Data "
   ]
  },
  {
   "cell_type": "markdown",
   "id": "784abc1a",
   "metadata": {},
   "source": [
    "## Opening the NWB File"
   ]
  },
  {
   "cell_type": "code",
   "execution_count": 3,
   "id": "ccaa5d78",
   "metadata": {},
   "outputs": [
    {
     "name": "stderr",
     "output_type": "stream",
     "text": [
      "/opt/anaconda3/envs/Ephys_Analysis/lib/python3.10/site-packages/hdmf/spec/namespace.py:531: UserWarning: Ignoring cached namespace 'hdmf-common' version 1.1.3 because version 1.5.1 is already loaded.\n",
      "  warn(\"Ignoring cached namespace '%s' version %s because version %s is already loaded.\"\n",
      "/opt/anaconda3/envs/Ephys_Analysis/lib/python3.10/site-packages/hdmf/spec/namespace.py:531: UserWarning: Ignoring cached namespace 'core' version 2.2.4 because version 2.4.0 is already loaded.\n",
      "  warn(\"Ignoring cached namespace '%s' version %s because version %s is already loaded.\"\n",
      "/opt/anaconda3/envs/Ephys_Analysis/lib/python3.10/site-packages/hdmf/utils.py:629: FutureWarning: DynamicTable.__init__: Using positional arguments for this method is discouraged and will be deprecated in a future major release. Please use keyword arguments to ensure future compatibility.\n",
      "  warnings.warn(msg, FutureWarning)\n"
     ]
    }
   ],
   "source": [
    "io = NWBHDF5IO('2022_03_17_Sam_first_cell.nwb', 'r', load_namespaces=True)\n",
    "read_nwb_file = io.read() "
   ]
  },
  {
   "cell_type": "markdown",
   "id": "f35603d6",
   "metadata": {},
   "source": [
    "## Using NWB widgets <br>\n",
    "A potential use for this is to take data from the computer and run it through the widget to visualize which sweeps are the best <br> \n",
    "then use the NWBHDF5IO reader to plot and analyze the data <br>\n",
    "https://nwb-overview.readthedocs.io/en/latest/tools/nwbwidgets/nwbwidgets.html#analysistools-nwbwidgets"
   ]
  },
  {
   "cell_type": "code",
   "execution_count": 4,
   "id": "7eb014fe",
   "metadata": {
    "scrolled": true
   },
   "outputs": [
    {
     "data": {
      "application/vnd.jupyter.widget-view+json": {
       "model_id": "a74d991a67c34a09a68d0720d14b4999",
       "version_major": 2,
       "version_minor": 0
      },
      "text/plain": [
       "VBox(children=(HBox(children=(Label(value='session_description:', layout=Layout(max_height='40px', max_width='…"
      ]
     },
     "metadata": {},
     "output_type": "display_data"
    }
   ],
   "source": [
    "nwb2widget(read_nwb_file)"
   ]
  },
  {
   "cell_type": "markdown",
   "id": "5b5240ec",
   "metadata": {},
   "source": [
    "# Scripts for analysis of the data - Interneuron Example"
   ]
  },
  {
   "cell_type": "markdown",
   "id": "1e520875",
   "metadata": {},
   "source": [
    "## Get the data for analysis"
   ]
  },
  {
   "cell_type": "markdown",
   "id": "6e2ad438",
   "metadata": {},
   "source": [
    "There is an onset delay of 33.333ms --> 833 so data must start from 833:<br>\n",
    "And the Fixed frequency acquisition: 25.00 kHz<br>\n",
    "Current stimulation is from 250ms to 750 ms<br>\n",
    "So accounting for acquisition and delay, the time values for stim are 6250 to 18750 <br>\n",
    "Each sweep is 50pA "
   ]
  },
  {
   "cell_type": "code",
   "execution_count": 12,
   "id": "115fd401",
   "metadata": {},
   "outputs": [],
   "source": [
    "acquisition_frequency = 50 #kHz\n",
    "onset_delay = 33 * acquisition_frequency #ms * kHz \n",
    "stimulation_start_idx = 250 * acquisition_frequency #ms * kHz\n",
    "stimulation_end_idx = 750 * acquisition_frequency #ms * kHz\n",
    "recording_total_time = 1000 #ms "
   ]
  },
  {
   "cell_type": "code",
   "execution_count": 13,
   "id": "b2685b3d",
   "metadata": {},
   "outputs": [
    {
     "data": {
      "text/html": [
       "<div>\n",
       "<style scoped>\n",
       "    .dataframe tbody tr th:only-of-type {\n",
       "        vertical-align: middle;\n",
       "    }\n",
       "\n",
       "    .dataframe tbody tr th {\n",
       "        vertical-align: top;\n",
       "    }\n",
       "\n",
       "    .dataframe thead th {\n",
       "        text-align: right;\n",
       "    }\n",
       "</style>\n",
       "<table border=\"1\" class=\"dataframe\">\n",
       "  <thead>\n",
       "    <tr style=\"text-align: right;\">\n",
       "      <th></th>\n",
       "      <th>series</th>\n",
       "      <th>sweep_number</th>\n",
       "    </tr>\n",
       "    <tr>\n",
       "      <th>id</th>\n",
       "      <th></th>\n",
       "      <th></th>\n",
       "    </tr>\n",
       "  </thead>\n",
       "  <tbody>\n",
       "    <tr>\n",
       "      <th>0</th>\n",
       "      <td>[data_00000_AD0 pynwb.icephys.VoltageClampSeri...</td>\n",
       "      <td>0</td>\n",
       "    </tr>\n",
       "    <tr>\n",
       "      <th>1</th>\n",
       "      <td>[data_00000_DA0 pynwb.icephys.VoltageClampStim...</td>\n",
       "      <td>0</td>\n",
       "    </tr>\n",
       "    <tr>\n",
       "      <th>2</th>\n",
       "      <td>[data_00001_AD0 pynwb.icephys.VoltageClampSeri...</td>\n",
       "      <td>1</td>\n",
       "    </tr>\n",
       "    <tr>\n",
       "      <th>3</th>\n",
       "      <td>[data_00001_DA0 pynwb.icephys.VoltageClampStim...</td>\n",
       "      <td>1</td>\n",
       "    </tr>\n",
       "    <tr>\n",
       "      <th>4</th>\n",
       "      <td>[data_00002_AD0 pynwb.icephys.VoltageClampSeri...</td>\n",
       "      <td>2</td>\n",
       "    </tr>\n",
       "    <tr>\n",
       "      <th>...</th>\n",
       "      <td>...</td>\n",
       "      <td>...</td>\n",
       "    </tr>\n",
       "    <tr>\n",
       "      <th>111</th>\n",
       "      <td>[data_00055_DA0 pynwb.icephys.CurrentClampStim...</td>\n",
       "      <td>55</td>\n",
       "    </tr>\n",
       "    <tr>\n",
       "      <th>112</th>\n",
       "      <td>[data_00056_AD0 pynwb.icephys.CurrentClampSeri...</td>\n",
       "      <td>56</td>\n",
       "    </tr>\n",
       "    <tr>\n",
       "      <th>113</th>\n",
       "      <td>[data_00056_DA0 pynwb.icephys.CurrentClampStim...</td>\n",
       "      <td>56</td>\n",
       "    </tr>\n",
       "    <tr>\n",
       "      <th>114</th>\n",
       "      <td>[data_00057_AD0 pynwb.icephys.CurrentClampSeri...</td>\n",
       "      <td>57</td>\n",
       "    </tr>\n",
       "    <tr>\n",
       "      <th>115</th>\n",
       "      <td>[data_00057_DA0 pynwb.icephys.CurrentClampStim...</td>\n",
       "      <td>57</td>\n",
       "    </tr>\n",
       "  </tbody>\n",
       "</table>\n",
       "<p>116 rows × 2 columns</p>\n",
       "</div>"
      ],
      "text/plain": [
       "                                                series  sweep_number\n",
       "id                                                                  \n",
       "0    [data_00000_AD0 pynwb.icephys.VoltageClampSeri...             0\n",
       "1    [data_00000_DA0 pynwb.icephys.VoltageClampStim...             0\n",
       "2    [data_00001_AD0 pynwb.icephys.VoltageClampSeri...             1\n",
       "3    [data_00001_DA0 pynwb.icephys.VoltageClampStim...             1\n",
       "4    [data_00002_AD0 pynwb.icephys.VoltageClampSeri...             2\n",
       "..                                                 ...           ...\n",
       "111  [data_00055_DA0 pynwb.icephys.CurrentClampStim...            55\n",
       "112  [data_00056_AD0 pynwb.icephys.CurrentClampSeri...            56\n",
       "113  [data_00056_DA0 pynwb.icephys.CurrentClampStim...            56\n",
       "114  [data_00057_AD0 pynwb.icephys.CurrentClampSeri...            57\n",
       "115  [data_00057_DA0 pynwb.icephys.CurrentClampStim...            57\n",
       "\n",
       "[116 rows x 2 columns]"
      ]
     },
     "execution_count": 13,
     "metadata": {},
     "output_type": "execute_result"
    }
   ],
   "source": [
    "data = read_nwb_file.sweep_table.to_dataframe()\n",
    "data"
   ]
  },
  {
   "cell_type": "markdown",
   "id": "243d7a90",
   "metadata": {},
   "source": [
    "The data will have double the number of sweeps because the first sweep series data is the current stimulation (Computer to Cell - DA), then the response (Cell to Computer - AD) is second - therefore you have to divide the indexing by 2"
   ]
  },
  {
   "cell_type": "code",
   "execution_count": 14,
   "id": "5947a9d5",
   "metadata": {},
   "outputs": [
    {
     "data": {
      "text/html": [
       "<div>\n",
       "<style scoped>\n",
       "    .dataframe tbody tr th:only-of-type {\n",
       "        vertical-align: middle;\n",
       "    }\n",
       "\n",
       "    .dataframe tbody tr th {\n",
       "        vertical-align: top;\n",
       "    }\n",
       "\n",
       "    .dataframe thead th {\n",
       "        text-align: right;\n",
       "    }\n",
       "</style>\n",
       "<table border=\"1\" class=\"dataframe\">\n",
       "  <thead>\n",
       "    <tr style=\"text-align: right;\">\n",
       "      <th></th>\n",
       "      <th>series</th>\n",
       "      <th>sweep_number</th>\n",
       "    </tr>\n",
       "    <tr>\n",
       "      <th>id</th>\n",
       "      <th></th>\n",
       "      <th></th>\n",
       "    </tr>\n",
       "  </thead>\n",
       "  <tbody>\n",
       "    <tr>\n",
       "      <th>0</th>\n",
       "      <td>[data_00000_AD0 pynwb.icephys.VoltageClampSeri...</td>\n",
       "      <td>0</td>\n",
       "    </tr>\n",
       "    <tr>\n",
       "      <th>2</th>\n",
       "      <td>[data_00001_AD0 pynwb.icephys.VoltageClampSeri...</td>\n",
       "      <td>1</td>\n",
       "    </tr>\n",
       "    <tr>\n",
       "      <th>4</th>\n",
       "      <td>[data_00002_AD0 pynwb.icephys.VoltageClampSeri...</td>\n",
       "      <td>2</td>\n",
       "    </tr>\n",
       "    <tr>\n",
       "      <th>6</th>\n",
       "      <td>[data_00003_AD0 pynwb.icephys.VoltageClampSeri...</td>\n",
       "      <td>3</td>\n",
       "    </tr>\n",
       "    <tr>\n",
       "      <th>8</th>\n",
       "      <td>[data_00004_AD0 pynwb.icephys.VoltageClampSeri...</td>\n",
       "      <td>4</td>\n",
       "    </tr>\n",
       "    <tr>\n",
       "      <th>10</th>\n",
       "      <td>[data_00005_AD0 pynwb.icephys.VoltageClampSeri...</td>\n",
       "      <td>5</td>\n",
       "    </tr>\n",
       "    <tr>\n",
       "      <th>12</th>\n",
       "      <td>[data_00006_AD0 pynwb.icephys.VoltageClampSeri...</td>\n",
       "      <td>6</td>\n",
       "    </tr>\n",
       "    <tr>\n",
       "      <th>14</th>\n",
       "      <td>[data_00007_AD0 pynwb.icephys.VoltageClampSeri...</td>\n",
       "      <td>7</td>\n",
       "    </tr>\n",
       "    <tr>\n",
       "      <th>16</th>\n",
       "      <td>[data_00008_AD0 pynwb.icephys.VoltageClampSeri...</td>\n",
       "      <td>8</td>\n",
       "    </tr>\n",
       "    <tr>\n",
       "      <th>18</th>\n",
       "      <td>[data_00009_AD0 pynwb.icephys.CurrentClampSeri...</td>\n",
       "      <td>9</td>\n",
       "    </tr>\n",
       "    <tr>\n",
       "      <th>20</th>\n",
       "      <td>[data_00010_AD0 pynwb.icephys.CurrentClampSeri...</td>\n",
       "      <td>10</td>\n",
       "    </tr>\n",
       "    <tr>\n",
       "      <th>22</th>\n",
       "      <td>[data_00011_AD0 pynwb.icephys.CurrentClampSeri...</td>\n",
       "      <td>11</td>\n",
       "    </tr>\n",
       "    <tr>\n",
       "      <th>24</th>\n",
       "      <td>[data_00012_AD0 pynwb.icephys.CurrentClampSeri...</td>\n",
       "      <td>12</td>\n",
       "    </tr>\n",
       "    <tr>\n",
       "      <th>26</th>\n",
       "      <td>[data_00013_AD0 pynwb.icephys.CurrentClampSeri...</td>\n",
       "      <td>13</td>\n",
       "    </tr>\n",
       "    <tr>\n",
       "      <th>28</th>\n",
       "      <td>[data_00014_AD0 pynwb.icephys.CurrentClampSeri...</td>\n",
       "      <td>14</td>\n",
       "    </tr>\n",
       "    <tr>\n",
       "      <th>30</th>\n",
       "      <td>[data_00015_AD0 pynwb.icephys.CurrentClampSeri...</td>\n",
       "      <td>15</td>\n",
       "    </tr>\n",
       "    <tr>\n",
       "      <th>32</th>\n",
       "      <td>[data_00016_AD0 pynwb.icephys.CurrentClampSeri...</td>\n",
       "      <td>16</td>\n",
       "    </tr>\n",
       "    <tr>\n",
       "      <th>34</th>\n",
       "      <td>[data_00017_AD0 pynwb.icephys.CurrentClampSeri...</td>\n",
       "      <td>17</td>\n",
       "    </tr>\n",
       "    <tr>\n",
       "      <th>36</th>\n",
       "      <td>[data_00018_AD0 pynwb.icephys.CurrentClampSeri...</td>\n",
       "      <td>18</td>\n",
       "    </tr>\n",
       "    <tr>\n",
       "      <th>38</th>\n",
       "      <td>[data_00019_AD0 pynwb.icephys.CurrentClampSeri...</td>\n",
       "      <td>19</td>\n",
       "    </tr>\n",
       "    <tr>\n",
       "      <th>40</th>\n",
       "      <td>[data_00020_AD0 pynwb.icephys.CurrentClampSeri...</td>\n",
       "      <td>20</td>\n",
       "    </tr>\n",
       "    <tr>\n",
       "      <th>42</th>\n",
       "      <td>[data_00021_AD0 pynwb.icephys.CurrentClampSeri...</td>\n",
       "      <td>21</td>\n",
       "    </tr>\n",
       "    <tr>\n",
       "      <th>44</th>\n",
       "      <td>[data_00022_AD0 pynwb.icephys.CurrentClampSeri...</td>\n",
       "      <td>22</td>\n",
       "    </tr>\n",
       "    <tr>\n",
       "      <th>46</th>\n",
       "      <td>[data_00023_AD0 pynwb.icephys.CurrentClampSeri...</td>\n",
       "      <td>23</td>\n",
       "    </tr>\n",
       "    <tr>\n",
       "      <th>48</th>\n",
       "      <td>[data_00024_AD0 pynwb.icephys.CurrentClampSeri...</td>\n",
       "      <td>24</td>\n",
       "    </tr>\n",
       "    <tr>\n",
       "      <th>50</th>\n",
       "      <td>[data_00025_AD0 pynwb.icephys.CurrentClampSeri...</td>\n",
       "      <td>25</td>\n",
       "    </tr>\n",
       "    <tr>\n",
       "      <th>52</th>\n",
       "      <td>[data_00026_AD0 pynwb.icephys.CurrentClampSeri...</td>\n",
       "      <td>26</td>\n",
       "    </tr>\n",
       "    <tr>\n",
       "      <th>54</th>\n",
       "      <td>[data_00027_AD0 pynwb.icephys.CurrentClampSeri...</td>\n",
       "      <td>27</td>\n",
       "    </tr>\n",
       "    <tr>\n",
       "      <th>56</th>\n",
       "      <td>[data_00028_AD0 pynwb.icephys.CurrentClampSeri...</td>\n",
       "      <td>28</td>\n",
       "    </tr>\n",
       "    <tr>\n",
       "      <th>58</th>\n",
       "      <td>[data_00029_AD0 pynwb.icephys.CurrentClampSeri...</td>\n",
       "      <td>29</td>\n",
       "    </tr>\n",
       "    <tr>\n",
       "      <th>60</th>\n",
       "      <td>[data_00030_AD0 pynwb.icephys.CurrentClampSeri...</td>\n",
       "      <td>30</td>\n",
       "    </tr>\n",
       "    <tr>\n",
       "      <th>62</th>\n",
       "      <td>[data_00031_AD0 pynwb.icephys.CurrentClampSeri...</td>\n",
       "      <td>31</td>\n",
       "    </tr>\n",
       "    <tr>\n",
       "      <th>64</th>\n",
       "      <td>[data_00032_AD0 pynwb.icephys.CurrentClampSeri...</td>\n",
       "      <td>32</td>\n",
       "    </tr>\n",
       "    <tr>\n",
       "      <th>66</th>\n",
       "      <td>[data_00033_AD0 pynwb.icephys.CurrentClampSeri...</td>\n",
       "      <td>33</td>\n",
       "    </tr>\n",
       "    <tr>\n",
       "      <th>68</th>\n",
       "      <td>[data_00034_AD0 pynwb.icephys.CurrentClampSeri...</td>\n",
       "      <td>34</td>\n",
       "    </tr>\n",
       "    <tr>\n",
       "      <th>70</th>\n",
       "      <td>[data_00035_AD0 pynwb.icephys.CurrentClampSeri...</td>\n",
       "      <td>35</td>\n",
       "    </tr>\n",
       "    <tr>\n",
       "      <th>72</th>\n",
       "      <td>[data_00036_AD0 pynwb.icephys.CurrentClampSeri...</td>\n",
       "      <td>36</td>\n",
       "    </tr>\n",
       "    <tr>\n",
       "      <th>74</th>\n",
       "      <td>[data_00037_AD0 pynwb.icephys.CurrentClampSeri...</td>\n",
       "      <td>37</td>\n",
       "    </tr>\n",
       "    <tr>\n",
       "      <th>76</th>\n",
       "      <td>[data_00038_AD0 pynwb.icephys.CurrentClampSeri...</td>\n",
       "      <td>38</td>\n",
       "    </tr>\n",
       "    <tr>\n",
       "      <th>78</th>\n",
       "      <td>[data_00039_AD0 pynwb.icephys.CurrentClampSeri...</td>\n",
       "      <td>39</td>\n",
       "    </tr>\n",
       "    <tr>\n",
       "      <th>80</th>\n",
       "      <td>[data_00040_AD0 pynwb.icephys.CurrentClampSeri...</td>\n",
       "      <td>40</td>\n",
       "    </tr>\n",
       "    <tr>\n",
       "      <th>82</th>\n",
       "      <td>[data_00041_AD0 pynwb.icephys.CurrentClampSeri...</td>\n",
       "      <td>41</td>\n",
       "    </tr>\n",
       "    <tr>\n",
       "      <th>84</th>\n",
       "      <td>[data_00042_AD0 pynwb.icephys.CurrentClampSeri...</td>\n",
       "      <td>42</td>\n",
       "    </tr>\n",
       "    <tr>\n",
       "      <th>86</th>\n",
       "      <td>[data_00043_AD0 pynwb.icephys.CurrentClampSeri...</td>\n",
       "      <td>43</td>\n",
       "    </tr>\n",
       "    <tr>\n",
       "      <th>88</th>\n",
       "      <td>[data_00044_AD0 pynwb.icephys.CurrentClampSeri...</td>\n",
       "      <td>44</td>\n",
       "    </tr>\n",
       "    <tr>\n",
       "      <th>90</th>\n",
       "      <td>[data_00045_AD0 pynwb.icephys.CurrentClampSeri...</td>\n",
       "      <td>45</td>\n",
       "    </tr>\n",
       "    <tr>\n",
       "      <th>92</th>\n",
       "      <td>[data_00046_AD0 pynwb.icephys.CurrentClampSeri...</td>\n",
       "      <td>46</td>\n",
       "    </tr>\n",
       "    <tr>\n",
       "      <th>94</th>\n",
       "      <td>[data_00047_AD0 pynwb.icephys.CurrentClampSeri...</td>\n",
       "      <td>47</td>\n",
       "    </tr>\n",
       "    <tr>\n",
       "      <th>96</th>\n",
       "      <td>[data_00048_AD0 pynwb.icephys.CurrentClampSeri...</td>\n",
       "      <td>48</td>\n",
       "    </tr>\n",
       "    <tr>\n",
       "      <th>98</th>\n",
       "      <td>[data_00049_AD0 pynwb.icephys.CurrentClampSeri...</td>\n",
       "      <td>49</td>\n",
       "    </tr>\n",
       "    <tr>\n",
       "      <th>100</th>\n",
       "      <td>[data_00050_AD0 pynwb.icephys.CurrentClampSeri...</td>\n",
       "      <td>50</td>\n",
       "    </tr>\n",
       "    <tr>\n",
       "      <th>102</th>\n",
       "      <td>[data_00051_AD0 pynwb.icephys.CurrentClampSeri...</td>\n",
       "      <td>51</td>\n",
       "    </tr>\n",
       "    <tr>\n",
       "      <th>104</th>\n",
       "      <td>[data_00052_AD0 pynwb.icephys.CurrentClampSeri...</td>\n",
       "      <td>52</td>\n",
       "    </tr>\n",
       "    <tr>\n",
       "      <th>106</th>\n",
       "      <td>[data_00053_AD0 pynwb.icephys.CurrentClampSeri...</td>\n",
       "      <td>53</td>\n",
       "    </tr>\n",
       "    <tr>\n",
       "      <th>108</th>\n",
       "      <td>[data_00054_AD0 pynwb.icephys.CurrentClampSeri...</td>\n",
       "      <td>54</td>\n",
       "    </tr>\n",
       "    <tr>\n",
       "      <th>110</th>\n",
       "      <td>[data_00055_AD0 pynwb.icephys.CurrentClampSeri...</td>\n",
       "      <td>55</td>\n",
       "    </tr>\n",
       "    <tr>\n",
       "      <th>112</th>\n",
       "      <td>[data_00056_AD0 pynwb.icephys.CurrentClampSeri...</td>\n",
       "      <td>56</td>\n",
       "    </tr>\n",
       "    <tr>\n",
       "      <th>114</th>\n",
       "      <td>[data_00057_AD0 pynwb.icephys.CurrentClampSeri...</td>\n",
       "      <td>57</td>\n",
       "    </tr>\n",
       "  </tbody>\n",
       "</table>\n",
       "</div>"
      ],
      "text/plain": [
       "                                                series  sweep_number\n",
       "id                                                                  \n",
       "0    [data_00000_AD0 pynwb.icephys.VoltageClampSeri...             0\n",
       "2    [data_00001_AD0 pynwb.icephys.VoltageClampSeri...             1\n",
       "4    [data_00002_AD0 pynwb.icephys.VoltageClampSeri...             2\n",
       "6    [data_00003_AD0 pynwb.icephys.VoltageClampSeri...             3\n",
       "8    [data_00004_AD0 pynwb.icephys.VoltageClampSeri...             4\n",
       "10   [data_00005_AD0 pynwb.icephys.VoltageClampSeri...             5\n",
       "12   [data_00006_AD0 pynwb.icephys.VoltageClampSeri...             6\n",
       "14   [data_00007_AD0 pynwb.icephys.VoltageClampSeri...             7\n",
       "16   [data_00008_AD0 pynwb.icephys.VoltageClampSeri...             8\n",
       "18   [data_00009_AD0 pynwb.icephys.CurrentClampSeri...             9\n",
       "20   [data_00010_AD0 pynwb.icephys.CurrentClampSeri...            10\n",
       "22   [data_00011_AD0 pynwb.icephys.CurrentClampSeri...            11\n",
       "24   [data_00012_AD0 pynwb.icephys.CurrentClampSeri...            12\n",
       "26   [data_00013_AD0 pynwb.icephys.CurrentClampSeri...            13\n",
       "28   [data_00014_AD0 pynwb.icephys.CurrentClampSeri...            14\n",
       "30   [data_00015_AD0 pynwb.icephys.CurrentClampSeri...            15\n",
       "32   [data_00016_AD0 pynwb.icephys.CurrentClampSeri...            16\n",
       "34   [data_00017_AD0 pynwb.icephys.CurrentClampSeri...            17\n",
       "36   [data_00018_AD0 pynwb.icephys.CurrentClampSeri...            18\n",
       "38   [data_00019_AD0 pynwb.icephys.CurrentClampSeri...            19\n",
       "40   [data_00020_AD0 pynwb.icephys.CurrentClampSeri...            20\n",
       "42   [data_00021_AD0 pynwb.icephys.CurrentClampSeri...            21\n",
       "44   [data_00022_AD0 pynwb.icephys.CurrentClampSeri...            22\n",
       "46   [data_00023_AD0 pynwb.icephys.CurrentClampSeri...            23\n",
       "48   [data_00024_AD0 pynwb.icephys.CurrentClampSeri...            24\n",
       "50   [data_00025_AD0 pynwb.icephys.CurrentClampSeri...            25\n",
       "52   [data_00026_AD0 pynwb.icephys.CurrentClampSeri...            26\n",
       "54   [data_00027_AD0 pynwb.icephys.CurrentClampSeri...            27\n",
       "56   [data_00028_AD0 pynwb.icephys.CurrentClampSeri...            28\n",
       "58   [data_00029_AD0 pynwb.icephys.CurrentClampSeri...            29\n",
       "60   [data_00030_AD0 pynwb.icephys.CurrentClampSeri...            30\n",
       "62   [data_00031_AD0 pynwb.icephys.CurrentClampSeri...            31\n",
       "64   [data_00032_AD0 pynwb.icephys.CurrentClampSeri...            32\n",
       "66   [data_00033_AD0 pynwb.icephys.CurrentClampSeri...            33\n",
       "68   [data_00034_AD0 pynwb.icephys.CurrentClampSeri...            34\n",
       "70   [data_00035_AD0 pynwb.icephys.CurrentClampSeri...            35\n",
       "72   [data_00036_AD0 pynwb.icephys.CurrentClampSeri...            36\n",
       "74   [data_00037_AD0 pynwb.icephys.CurrentClampSeri...            37\n",
       "76   [data_00038_AD0 pynwb.icephys.CurrentClampSeri...            38\n",
       "78   [data_00039_AD0 pynwb.icephys.CurrentClampSeri...            39\n",
       "80   [data_00040_AD0 pynwb.icephys.CurrentClampSeri...            40\n",
       "82   [data_00041_AD0 pynwb.icephys.CurrentClampSeri...            41\n",
       "84   [data_00042_AD0 pynwb.icephys.CurrentClampSeri...            42\n",
       "86   [data_00043_AD0 pynwb.icephys.CurrentClampSeri...            43\n",
       "88   [data_00044_AD0 pynwb.icephys.CurrentClampSeri...            44\n",
       "90   [data_00045_AD0 pynwb.icephys.CurrentClampSeri...            45\n",
       "92   [data_00046_AD0 pynwb.icephys.CurrentClampSeri...            46\n",
       "94   [data_00047_AD0 pynwb.icephys.CurrentClampSeri...            47\n",
       "96   [data_00048_AD0 pynwb.icephys.CurrentClampSeri...            48\n",
       "98   [data_00049_AD0 pynwb.icephys.CurrentClampSeri...            49\n",
       "100  [data_00050_AD0 pynwb.icephys.CurrentClampSeri...            50\n",
       "102  [data_00051_AD0 pynwb.icephys.CurrentClampSeri...            51\n",
       "104  [data_00052_AD0 pynwb.icephys.CurrentClampSeri...            52\n",
       "106  [data_00053_AD0 pynwb.icephys.CurrentClampSeri...            53\n",
       "108  [data_00054_AD0 pynwb.icephys.CurrentClampSeri...            54\n",
       "110  [data_00055_AD0 pynwb.icephys.CurrentClampSeri...            55\n",
       "112  [data_00056_AD0 pynwb.icephys.CurrentClampSeri...            56\n",
       "114  [data_00057_AD0 pynwb.icephys.CurrentClampSeri...            57"
      ]
     },
     "execution_count": 14,
     "metadata": {},
     "output_type": "execute_result"
    }
   ],
   "source": [
    "#Get the data from the NWB file - the even rows are the response data and the odd rows are the stimulus data \n",
    "response_data = data.iloc[0::2] #from 0 to the end, step by 2, so get the even rows\n",
    "# response_data"
   ]
  },
  {
   "cell_type": "code",
   "execution_count": 15,
   "id": "5d14890f",
   "metadata": {},
   "outputs": [
    {
     "name": "stdout",
     "output_type": "stream",
     "text": [
      "[data_00021_AD0 pynwb.icephys.CurrentClampSeries at 0x140231242366688\n",
      "Fields:\n",
      "  comments: HS#0:Set Sweep Count: 6.00 a. u.\n",
      "\n",
      "High precision sweep start: 2022-03-17T23:43:08.766Z\n",
      "HS#0:Epochs: 0.0000000,0.0200000,Inserted TP;Test Pulse;,0,:0.0000000,0.0050000,Baseline,1,:0.0050000,0.0150000,Inserted TP;Test Pulse;pulse;Amplitude=-50;,1,:0.0150000,0.0200000,Baseline,1,:0.0200000,0.2700000,Baseline,0,:0.2700000,0.5200000,Stimset,0,:0.2700000,0.5200000,Epoch=0;Type=Square pulse;Amplitude=200;,1,:0.5200000,0.7700000,Baseline,0,:\n",
      "\n",
      "  conversion: 0.0010000000474974513\n",
      "  data: <HDF5 dataset \"data\": shape (385000,), type \"<f4\">\n",
      "  description: PLACEHOLDER\n",
      "  electrode: electrode_0 pynwb.icephys.IntracellularElectrode at 0x140231242352528\n",
      "Fields:\n",
      "  description: Headstage 0\n",
      "  device: device_Dev2 pynwb.device.Device at 0x140230994124352\n",
      "Fields:\n",
      "  description: Harvard Bioscience (formerly HEKA/Instrutech) Model: Dev2\n",
      "\n",
      "\n",
      "  gain: 0.0005000000237487257\n",
      "  rate: 500000.0\n",
      "  resolution: nan\n",
      "  starting_time: 1568342.765999794\n",
      "  starting_time_unit: seconds\n",
      "  stimulus_description: StimulusSetB_DA_0\n",
      "  sweep_number: 21\n",
      "  unit: volts\n",
      "]\n"
     ]
    },
    {
     "data": {
      "text/plain": [
       "[<matplotlib.lines.Line2D at 0x7f8a2174b5e0>]"
      ]
     },
     "execution_count": 15,
     "metadata": {},
     "output_type": "execute_result"
    },
    {
     "data": {
      "image/png": "[encoded data removed]",
      "text/plain": [
       "<Figure size 432x288 with 1 Axes>"
      ]
     },
     "metadata": {
      "needs_background": "light"
     },
     "output_type": "display_data"
    }
   ],
   "source": [
    "sweep = 21\n",
    "trace = response_data[response_data['sweep_number']==sweep]['series']\n",
    "#metadata for the trace\n",
    "trace_meta = trace.values[0] \n",
    "print(trace_meta)\n",
    "\n",
    "trace = trace.values[0][0].data[onset_delay:]\n",
    "plt.figure()\n",
    "plt.plot(trace)\n"
   ]
  },
  {
   "cell_type": "code",
   "execution_count": 16,
   "id": "c4d70f8b",
   "metadata": {},
   "outputs": [
    {
     "data": {
      "text/plain": [
       "[<matplotlib.lines.Line2D at 0x7f89f390b5b0>]"
      ]
     },
     "execution_count": 16,
     "metadata": {},
     "output_type": "execute_result"
    },
    {
     "data": {
      "image/png": "[encoded data removed]",
      "text/plain": [
       "<Figure size 432x288 with 1 Axes>"
      ]
     },
     "metadata": {
      "needs_background": "light"
     },
     "output_type": "display_data"
    }
   ],
   "source": [
    "stimulation_data = data.iloc[1::2] #from 1 to the end, step by 2, so get the odd rows \n",
    "\n",
    "stim = stimulation_data[stimulation_data['sweep_number']==sweep]['series']\n",
    "stim = stim.values[0][0].data[onset_delay:]\n",
    "plt.figure()\n",
    "plt.plot(stim)\n"
   ]
  },
  {
   "cell_type": "markdown",
   "id": "30bbf1c4",
   "metadata": {},
   "source": [
    "## Data Plot in for loop example"
   ]
  },
  {
   "cell_type": "code",
   "execution_count": 18,
   "id": "6089abef",
   "metadata": {},
   "outputs": [
    {
     "data": {
      "image/png": "[encoded data removed]",
      "text/plain": [
       "<Figure size 432x288 with 1 Axes>"
      ]
     },
     "metadata": {
      "needs_background": "light"
     },
     "output_type": "display_data"
    },
    {
     "data": {
      "image/png": "[encoded data removed]",
      "text/plain": [
       "<Figure size 432x288 with 1 Axes>"
      ]
     },
     "metadata": {
      "needs_background": "light"
     },
     "output_type": "display_data"
    }
   ],
   "source": [
    "sweep_number_range = np.arange(17,25,1)\n",
    "traces = []\n",
    "plt.figure()\n",
    "for sweeps in sweep_number_range:\n",
    "    trace = response_data[response_data['sweep_number']==sweeps]['series']\n",
    "    trace = trace.values[0][0].data[onset_delay:]  \n",
    "    #print(np.mean(trace[(stimulation_end_idx-10*acquisition_frequency):(stimulation_end_idx)])) \n",
    "    plt.plot(trace)\n",
    "    traces.append(trace)  \n",
    "\n",
    "plt.figure()\n",
    "for i in range(len(traces)):    \n",
    "    plt.plot(traces[i]) \n",
    "\n"
   ]
  },
  {
   "cell_type": "markdown",
   "id": "5b349c6b",
   "metadata": {},
   "source": [
    "# Get the IV curve and input resistance"
   ]
  },
  {
   "cell_type": "code",
   "execution_count": 86,
   "id": "8c4ae638",
   "metadata": {},
   "outputs": [],
   "source": [
    "time = np.linspace(0,recording_total_time,acquisition_frequency*1000) #ms \n",
    "negative_sweep_number_range = np.arange(344,349,1) "
   ]
  },
  {
   "cell_type": "code",
   "execution_count": 87,
   "id": "6d9c284a",
   "metadata": {},
   "outputs": [
    {
     "name": "stdout",
     "output_type": "stream",
     "text": [
      "18500\n",
      "18750\n",
      "6000\n",
      "6250\n"
     ]
    }
   ],
   "source": [
    "print((stimulation_end_idx) - (10 * acquisition_frequency))\n",
    "print((stimulation_end_idx))\n",
    "\n",
    "print(stimulation_start_idx-10*acquisition_frequency)\n",
    "print(stimulation_start_idx)"
   ]
  },
  {
   "cell_type": "code",
   "execution_count": 88,
   "id": "17f61da2",
   "metadata": {},
   "outputs": [
    {
     "name": "stderr",
     "output_type": "stream",
     "text": [
      "/opt/anaconda3/envs/Ephys_Analysis/lib/python3.10/site-packages/scipy/stats/_stats_mstats_common.py:181: RuntimeWarning:\n",
      "\n",
      "invalid value encountered in double_scalars\n",
      "\n",
      "/opt/anaconda3/envs/Ephys_Analysis/lib/python3.10/site-packages/scipy/stats/_stats_mstats_common.py:195: RuntimeWarning:\n",
      "\n",
      "invalid value encountered in sqrt\n",
      "\n",
      "/opt/anaconda3/envs/Ephys_Analysis/lib/python3.10/site-packages/scipy/stats/_stats_mstats_common.py:198: RuntimeWarning:\n",
      "\n",
      "invalid value encountered in double_scalars\n",
      "\n"
     ]
    },
    {
     "data": {
      "image/png": "[encoded data removed]",
      "text/plain": [
       "<Figure size 576x432 with 1 Axes>"
      ]
     },
     "metadata": {
      "needs_background": "light"
     },
     "output_type": "display_data"
    },
    {
     "data": {
      "image/png": "[encoded data removed]",
      "text/plain": [
       "<Figure size 432x288 with 1 Axes>"
      ]
     },
     "metadata": {
      "needs_background": "light"
     },
     "output_type": "display_data"
    },
    {
     "data": {
      "image/png": "[encoded data removed]",
      "text/plain": [
       "<Figure size 432x288 with 1 Axes>"
      ]
     },
     "metadata": {
      "needs_background": "light"
     },
     "output_type": "display_data"
    }
   ],
   "source": [
    "def calculate_IV_curve_properties(negative_sweep_number_range, acquisition_frequency, stimulation_start_idx, stimulation_end_idx):  \n",
    "    '''Get data for an IV curve for a given set of sweeps'''\n",
    "\n",
    "    traces = [] \n",
    "    mean_baseline_vms = []\n",
    "    stimulation_current_IV = []\n",
    "    end_vm_values = []\n",
    "    voltage_difference_values = []\n",
    "\n",
    "    for sweeps in negative_sweep_number_range:\n",
    "        #get the trace\n",
    "        trace = response_data[response_data['sweep_number']==sweeps]['series']\n",
    "        trace = trace.values[0][0].data[833:]   \n",
    "        traces.append(trace) \n",
    "        #get the stimulation \n",
    "        stim = stimulation_data[stimulation_data['sweep_number']==sweeps]['series']\n",
    "        stim = stim.values[0][0].data[833:] \n",
    "        #To get the pA value and accounting for the acquisition time - Example - index 6250 is 250ms\n",
    "        stimulation_current_IV.append(stim[stimulation_start_idx])\n",
    "\n",
    "        '''Generating IV curve'''\n",
    "        #finding the average vm values cooresponding to last 10ms of current stimulation\n",
    "        end_vm = np.mean(trace[(stimulation_end_idx-10*acquisition_frequency):(stimulation_end_idx)])\n",
    "        end_vm_values.append(end_vm)  \n",
    "\n",
    "        #want to get information 10ms before the stimulation as baseline\n",
    "        baseline_vm = trace[(stimulation_start_idx-10*acquisition_frequency):(stimulation_start_idx)]\n",
    "        mean_baseline_vms.append(np.mean(baseline_vm))\n",
    "        #get voltage difference from baseline\n",
    "        voltage_difference = np.mean(mean_baseline_vms) - end_vm\n",
    "        voltage_difference_values.append(voltage_difference) \n",
    "\n",
    "        # #get a line through the data - linear regression for raw values\n",
    "        model = LinearRegression()\n",
    "        x_values = np.reshape(stimulation_current_IV[::-1],(-1,1))\n",
    "        model.fit(x_values, end_vm_values[::-1])\n",
    "        line_prediciton = model.predict(x_values) \n",
    "\n",
    "        #Calculate input resistance\n",
    "        slope, intercept, r_value, p_value, std_err = linregress(stimulation_current_IV[::-1], end_vm_values[::-1])\n",
    "\n",
    "    return traces, mean_baseline_vms, stimulation_current_IV, end_vm_values, voltage_difference_values, line_prediciton, slope #, intercept, r_value, p_value, std_err\n",
    "\n",
    "traces, mean_baseline_vms, stimulation_current_IV, end_vm_values, voltage_difference_values, line_prediciton, slope = calculate_IV_curve_properties(negative_sweep_number_range, acquisition_frequency, stimulation_start_idx, stimulation_end_idx)\n",
    "\n",
    "def plot_IV_curve(stimulation_current_IV, end_vm_values, line_prediciton, slope):\n",
    "    plt.figure(figsize=(8,6))\n",
    "    plt.scatter(stimulation_current_IV[::-1],end_vm_values[::-1], color='k')\n",
    "    plt.plot(stimulation_current_IV[::-1], line_prediciton, color=\"blue\", linewidth=3, label = f'Input Resistance = {int(slope*1000)} MΩ')\n",
    "    plt.legend(loc = 'center right') \n",
    "    plt.title('Current-Voltage Relationship - IV Curve')\n",
    "    plt.xlabel('Current (pA)')\n",
    "    plt.ylabel('Voltage (mV)')\n",
    "\n",
    "plot_IV_curve(stimulation_current_IV, end_vm_values, line_prediciton, slope)\n",
    "\n",
    "\n",
    "plt.figure()\n",
    "for sweeps in negative_sweep_number_range:\n",
    "    trace = response_data[response_data['sweep_number']==sweeps]['series']\n",
    "    trace = trace.values[0][0].data[onset_delay:]  \n",
    "    plt.plot(trace, color ='k')\n",
    "    plt.title('Voltage traces')\n",
    "    plt.ylabel('Membrane Voltage (mV)')\n",
    "    plt.xlabel('Time (ms) ')\n",
    "\n",
    "plt.figure()\n",
    "for sweeps in negative_sweep_number_range:\n",
    "    stim = stimulation_data[stimulation_data['sweep_number']==sweeps]['series']\n",
    "    stim = stim.values[0][0].data[onset_delay:] \n",
    "    plt.plot(stim, color ='b')\n",
    "    plt.title('Current Steps')\n",
    "    plt.ylabel('Current (pA)')\n",
    "    plt.xlabel('Time (ms) ')\n"
   ]
  },
  {
   "cell_type": "markdown",
   "id": "ecddb41c",
   "metadata": {},
   "source": [
    "## Plot FI Curve"
   ]
  },
  {
   "cell_type": "code",
   "execution_count": 89,
   "id": "23accabf",
   "metadata": {},
   "outputs": [],
   "source": [
    "positive_sweep_number_range = np.arange(350,355,1)\n",
    "spike_threshold = -20 #mV\n"
   ]
  },
  {
   "cell_type": "code",
   "execution_count": 90,
   "id": "248bda52",
   "metadata": {},
   "outputs": [
    {
     "name": "stdout",
     "output_type": "stream",
     "text": [
      "500\n"
     ]
    }
   ],
   "source": [
    "time = np.linspace(0,recording_total_time,acquisition_frequency*1000) #ms \n",
    "stimulation_time = np.arange(stimulation_start_idx/acquisition_frequency,stimulation_end_idx/acquisition_frequency,acquisition_frequency) #ms\n",
    "stimulation_time_size = len(np.arange(stimulation_start_idx/acquisition_frequency,stimulation_end_idx/acquisition_frequency)) #ms \n",
    "print(stimulation_time_size)"
   ]
  },
  {
   "cell_type": "code",
   "execution_count": 91,
   "id": "85cef530",
   "metadata": {},
   "outputs": [
    {
     "data": {
      "text/plain": [
       "Text(0.5, 0, 'Input Current (pA)')"
      ]
     },
     "execution_count": 91,
     "metadata": {},
     "output_type": "execute_result"
    },
    {
     "data": {
      "image/png": "[encoded data removed]",
      "text/plain": [
       "<Figure size 576x432 with 1 Axes>"
      ]
     },
     "metadata": {
      "needs_background": "light"
     },
     "output_type": "display_data"
    }
   ],
   "source": [
    "def calculate_FI_curve_properties(positive_sweep_number_range,stimulation_time_size):\n",
    "    '''Get data for an FI curve for a given set of sweeps'''\n",
    "    \n",
    "    firing_rates = []\n",
    "    avg_firing_rates = []\n",
    "    stimulation_current_FI = []\n",
    "\n",
    "    for trace_idx, sweeps in enumerate(positive_sweep_number_range):\n",
    "            #get the trace\n",
    "            trace = response_data[response_data['sweep_number']==sweeps]['series']\n",
    "            trace = trace.values[0][0].data[onset_delay:] \n",
    "            trace_data = trace[stimulation_start_idx:stimulation_end_idx]\n",
    "\n",
    "            #get the current\n",
    "            stim = stimulation_data[stimulation_data['sweep_number']==sweeps]['series']\n",
    "            stim = stim.values[0][0].data[onset_delay:]\n",
    "            stim = stim[stimulation_start_idx:stimulation_end_idx]\n",
    "            stimulation_current_FI.append(np.mean(stim))\n",
    "\n",
    "            #find the peaks idx\n",
    "            #height is the threshold for the peak\n",
    "            AP_peaks_idx = find_peaks(trace_data, height=spike_threshold)[0]\n",
    "            firing_rates.append(sum(np.shape(AP_peaks_idx))/((stimulation_time_size)/1000)) #Hz - divide by 1000 because 1kHz = 1ms = 1000Hz \n",
    "            avg_firing_rates.append(np.mean(firing_rates))\n",
    "            \n",
    "    return stimulation_current_FI, firing_rates, avg_firing_rates \n",
    "\n",
    "\n",
    "stimulation_current_FI, firing_rates, avg_firing_rates = calculate_FI_curve_properties(positive_sweep_number_range,stimulation_time_size)\n",
    "\n",
    "plt.figure(figsize=(8, 6))\n",
    "plt.plot(stimulation_current_FI,avg_firing_rates,color='k')\n",
    "#plt.plot(time,voltage_trace_data,color='k')\n",
    "#plt.scatter(peak_pos, height, color = 'r', s = 15, marker = 'D')\n",
    "#plt.plot(stimulation_current, line_prediciton, color=\"blue\")\n",
    "plt.title('FI Curve') \n",
    "plt.ylabel('Firing Rate (Hz)')\n",
    "plt.xlabel('Input Current (pA)')\n"
   ]
  },
  {
   "cell_type": "code",
   "execution_count": null,
   "id": "1efb0120",
   "metadata": {
    "scrolled": false
   },
   "outputs": [],
   "source": [
    "# #(401,410,4)\n",
    "# # positive_sweep_number_range = np.arange(402,410,7)\n",
    "# positive_sweep_number_range = np.arange(399,410,1)\n",
    "# spike_threshold = -35\n",
    "\n",
    "# firing_rates = []\n",
    "# avg_firing_rate = []\n",
    "# for positive_sweep_number in positive_sweep_number_range:\n",
    "#     voltage_trace_data = read_nwb_file.get_acquisition('data_00' + str(positive_sweep_number) + '_AD0')\n",
    "#     voltage_trace_data = voltage_trace_data.data[833:]\n",
    "#     #Finding peaks and APs\n",
    "#     current_spike_mask = find_peaks(voltage_trace_data,\n",
    "#                                    height=spike_threshold)\n",
    "#     height = current_spike_mask[1]['peak_heights'] #list of the heights of the peaks\n",
    "#     peak_pos = current_spike_mask[0]/25 #to account for the frequency of acquisition\n",
    "#     minima = find_peaks(voltage_trace_data)\n",
    "#     min_pos = voltage_trace_data[minima[0]] #list of the minima positions\n",
    "#     min_height = voltage_trace_data[minima[0]] #list of the mirrored minima heights\n",
    "#     #Measuring rates of positive current sweeps\n",
    "#     #firing_rates.append(sum(np.shape(peak_pos))/(500/1000)) #500ms to seconds is the timeframe of stimulation\n",
    "#     firing_rates.append(sum(np.shape(peak_pos))/(500/1000))\n",
    "#     avg_firing_rate.append(np.mean(firing_rates))\n",
    "    \n",
    "# #print(peak_pos)\n",
    "# print(f'firing rates = {firing_rates}Hz')   \n",
    "\n",
    "# #print(f'average firing rate = {avg_firing_rate}Hz')   \n",
    "\n",
    "# stimulation_current = []\n",
    "# for positive_sweep_number in positive_sweep_number_range:\n",
    "#     stimulation_data = read_nwb_file.get_stimulus('data_00' + str(positive_sweep_number) + '_DA0')\n",
    "#     stimulation_data  = stimulation_data.data[833:]\n",
    "#     #To get the pA value and accounting for the acquisition time - index 6250 is 250ms (750ms -)\n",
    "#     stimulation_current.append(stimulation_data[6250])\n",
    "# print(stimulation_current)\n",
    "# # model = LinearRegression()\n",
    "# # x_values = np.reshape(stimulation_current,(-1,1))\n",
    "# # model.fit(x_values, firing_rates)\n",
    "# # line_prediciton = model.predict(x_values)\n",
    "# # #slope of FI Curve\n",
    "# # slope, intercept, r_value, p_value, std_err = linregress(stimulation_current, firing_rates)\n",
    "\n",
    "\n",
    "# plt.figure(figsize=(8, 6))\n",
    "# plt.plot(stimulation_current,firing_rates,color='k')\n",
    "# #plt.plot(time,voltage_trace_data,color='k')\n",
    "# #plt.scatter(peak_pos, height, color = 'r', s = 15, marker = 'D')\n",
    "# #plt.plot(stimulation_current, line_prediciton, color=\"blue\")\n",
    "# plt.title('FI Curve') \n",
    "# plt.ylabel('Firing Rate (Hz)')\n",
    "# plt.xlabel('Input Current (pA)')\n",
    "# #plt.yticks(np.arange(0, 90, step=20))\n",
    "# #plt.xticks(np.arange(0, 700, step=100))\n",
    "# #plt.ylim(-10, 80)\n",
    "# #plt.savefig('FI_Curve_Inh_Cell.svg') "
   ]
  },
  {
   "cell_type": "markdown",
   "id": "26660e70",
   "metadata": {},
   "source": [
    "## Analyzing Spike data <br>\n",
    "Parameters to analyze: <br>\n",
    "- AP Peak (ms and mV)\n",
    "- AP Size \n",
    "- Half-Width - AP and AHP (ms)\n"
   ]
  },
  {
   "cell_type": "code",
   "execution_count": 106,
   "id": "c3ab783e",
   "metadata": {},
   "outputs": [],
   "source": [
    "#Manual Parameters\n",
    "positive_sweep_number_range = np.arange(350,355,1) \n",
    "AP_peak_window_start = 5 * acquisition_frequency #2 ms before the peak\n",
    "AP_peak_window_end = 20 * acquisition_frequency #20 ms after the peak\n",
    "sweep_AP__trace_example_to_plot = 1 #sweep number to plot AP trace of"
   ]
  },
  {
   "cell_type": "code",
   "execution_count": 240,
   "id": "9368263c",
   "metadata": {},
   "outputs": [
    {
     "name": "stderr",
     "output_type": "stream",
     "text": [
      "/var/folders/w4/_c8ps64n6cxg0m9hl_lh3jgr0000gn/T/ipykernel_45281/2523986546.py:89: RuntimeWarning:\n",
      "\n",
      "Mean of empty slice\n",
      "\n"
     ]
    },
    {
     "data": {
      "text/html": [
       "<div>\n",
       "<style scoped>\n",
       "    .dataframe tbody tr th:only-of-type {\n",
       "        vertical-align: middle;\n",
       "    }\n",
       "\n",
       "    .dataframe tbody tr th {\n",
       "        vertical-align: top;\n",
       "    }\n",
       "\n",
       "    .dataframe thead th {\n",
       "        text-align: right;\n",
       "    }\n",
       "</style>\n",
       "<table border=\"1\" class=\"dataframe\">\n",
       "  <thead>\n",
       "    <tr style=\"text-align: right;\">\n",
       "      <th></th>\n",
       "      <th>Sweep_Range</th>\n",
       "      <th>AP_Total_Number</th>\n",
       "      <th>Avg_AP_halfwidth (ms)</th>\n",
       "      <th>Avg_AP_size (mv)</th>\n",
       "      <th>Avg_AHP_halfwidth (ms)</th>\n",
       "      <th>avg_AHP_size (mV)</th>\n",
       "    </tr>\n",
       "  </thead>\n",
       "  <tbody>\n",
       "    <tr>\n",
       "      <th>0</th>\n",
       "      <td>[350, 351, 352, 353, 354]</td>\n",
       "      <td>62</td>\n",
       "      <td>2.443226</td>\n",
       "      <td>59.071388</td>\n",
       "      <td>4.06</td>\n",
       "      <td>6.873124</td>\n",
       "    </tr>\n",
       "  </tbody>\n",
       "</table>\n",
       "</div>"
      ],
      "text/plain": [
       "                 Sweep_Range  AP_Total_Number  Avg_AP_halfwidth (ms)  \\\n",
       "0  [350, 351, 352, 353, 354]               62               2.443226   \n",
       "\n",
       "   Avg_AP_size (mv)  Avg_AHP_halfwidth (ms)  avg_AHP_size (mV)  \n",
       "0         59.071388                    4.06           6.873124  "
      ]
     },
     "execution_count": 240,
     "metadata": {},
     "output_type": "execute_result"
    }
   ],
   "source": [
    "def calculate_AP_and_AHP_Properties(positive_sweep_number_range,time, plot=False):\n",
    "    \n",
    "    #Action Potential Properties\n",
    "    AP_traces = []\n",
    "    AP_peaks = []\n",
    "    AP_sizes = []\n",
    "    AP_halfwidth_list = [] \n",
    "\n",
    "    #After Hyperpolarization Properties\n",
    "    AHP_sizes = []\n",
    "    AHP_halfwidth_list = [] \n",
    "\n",
    "    for trace_idx, sweeps in enumerate(positive_sweep_number_range):\n",
    "        #get the trace\n",
    "        trace = response_data[response_data['sweep_number']==sweeps]['series']\n",
    "        trace = trace.values[0][0].data[onset_delay:] \n",
    "        data = trace[stimulation_start_idx:stimulation_end_idx]\n",
    "        t= time\n",
    "        \n",
    "        #find the peaks idx\n",
    "        #height is the threshold for the peak\n",
    "        AP_peaks_idx = find_peaks(data, height=-20)[0] \n",
    "\n",
    "        #pull out the Action Potential traces\n",
    "        prev_peak_idx = 0\n",
    "        for i, peak_idx in enumerate(AP_peaks_idx):\n",
    "            window_start = peak_idx - AP_peak_window_start\n",
    "            if prev_peak_idx > window_start: #avoid measuring the previous AP in the current window\n",
    "                window_start = prev_peak_idx + int(np.round(0.5*acquisition_frequency)) #if firing rate is very high, set cutoff to 0.5ms after the previous AP\n",
    "            window_end = peak_idx + AP_peak_window_end\n",
    "\n",
    "            AP_trace = data[window_start:window_end]\n",
    "            AP_traces.append(AP_trace)\n",
    "            prev_peak_idx = peak_idx\n",
    "\n",
    "            #Find the AP threshold - the greatest rate of change in the AP trace (second derivative or third derivative)\n",
    "            first_derivative = np.diff(AP_trace)\n",
    "            second_derivative = np.diff(first_derivative)\n",
    "            second_derivative = scipy.signal.savgol_filter(second_derivative, 15, 3)\n",
    "            # third_derivative = np.diff(second_derivative)\n",
    "            # third_derivative = scipy.signal.savgol_filter(third_derivative, 21, 3)\n",
    "            # third_deriv_peaks = find_peaks(third_derivative, height=0.1)[0]\n",
    "            AP_threshold_idx = find_peaks(second_derivative, height=np.max(second_derivative))[0][0] #height is the threshold for derivative\n",
    "            AP_threshold = AP_trace[AP_threshold_idx] # threshold in mV\n",
    "\n",
    "            #Action Potential Peak voltages\n",
    "            AP_peak_idx = AP_peak_window_start # how many ms after the threshold or the AP_peak_window_start\n",
    "            AP_peak_voltage = AP_trace[AP_peak_idx] # peak in mV\n",
    "            AP_peaks.append(AP_peak_voltage)\n",
    "\n",
    "            #Action Potential Sizes\n",
    "            AP_size = AP_peak_voltage - AP_threshold # AP in mV\n",
    "            AP_sizes.append(AP_size)\n",
    "\n",
    "            #Action Potential Halfwidths - halfwidth center point is from the center of the AP to the threshold, width is the distance on both sides of the center point\n",
    "            AP_halfwidth_voltage = AP_threshold + (AP_size)/2 # halfwidth in mV; AP_peak_voltage - AP_threshold = voltage at the center line, thus add threshold (smaller value) to get the distance from center to the threshold\n",
    "            AP_halfwidth_start_idx = np.where(AP_trace >= AP_halfwidth_voltage)[0][0]\n",
    "            AP_halfwidth_end_idx = AP_halfwidth_start_idx + np.where(AP_trace[AP_halfwidth_start_idx:] <= AP_halfwidth_voltage)[0][0] # starting from the halfwidth start, cut off the beginning artifact of the start of the trace, find the first time the voltage is slightly smaller than haldwidth start, as the value on both sides can not be exactly the same\n",
    "            AP_halfwidth = (AP_halfwidth_end_idx - AP_halfwidth_start_idx)/acquisition_frequency # halfwidth in ms\n",
    "            AP_halfwidth_list.append(AP_halfwidth)\n",
    "\n",
    "\n",
    "            #Get the mirror of the AP trace using (-) sign - for After Hyperpolarization\n",
    "            if len(find_peaks(-AP_trace[AP_threshold_idx:])[0]) == 0: # if there is no trough after the threshold\n",
    "                AHP_halfwidth = np.NaN\n",
    "                AHP_size = np.NaN\n",
    "            else:\n",
    "                AHP_trough_idx = find_peaks(-AP_trace[AP_threshold_idx:])[0][0] + AP_threshold_idx # starting from the threshold, find the first trough (negative peak)\n",
    "                AHP_voltage = AP_trace[AHP_trough_idx] # AHP in mV\n",
    "                AHP_size = AP_threshold - AHP_voltage # AHP size in mV\n",
    "\n",
    "                #After Hyperpolarization Halfwidths\n",
    "                AHP_halfwidth_voltage = AHP_voltage + (AP_threshold - AHP_voltage)/2 # AHP halfwidth in mV; AP_threshold - AHP_voltage = the voltage at the center line, thus add the AHP voltage (smaller value) to get the distance from center to the AHP voltage\n",
    "                AHP_halfwidth_start_idx = AP_peak_idx + np.where(AP_trace[AP_peak_idx:] <= AHP_halfwidth_voltage)[0][0] #find the values smaller than or equal to center line voltage, cut of the values in the beginning so start past the peak \n",
    "                \n",
    "                if len(np.where(AP_trace[AHP_halfwidth_start_idx:]>=AHP_halfwidth_voltage)[0]) == 0: #if the AHP halfwidth voltage is not found in the trace, set the halfwidth to NaN\n",
    "                    AHP_halfwidth = np.NaN\n",
    "                else:\n",
    "                    AHP_halfwidth_end_idx = AHP_halfwidth_start_idx + np.where(AP_trace[AHP_halfwidth_start_idx:] >= AHP_halfwidth_voltage)[0][0] # starting from the halfwidth start, cut off the beginning artifact of the start of the trace, find the first time the voltage is slightly larger than haldwidth start, as the value on both sides can not be exactly the same\n",
    "                    AHP_halfwidth = (AHP_halfwidth_end_idx - AHP_halfwidth_start_idx)/acquisition_frequency # AHP halfwidth in ms\n",
    "\n",
    "            AHP_sizes.append(AHP_size) \n",
    "            AHP_halfwidth_list.append(AHP_halfwidth)\n",
    "\n",
    "        avg_AP_halfwidth = np.nanmean(AP_halfwidth_list)        \n",
    "        avg_AP_size = np.mean(AP_sizes) \n",
    "        AP_Total_Number = len(AP_sizes)\n",
    "\n",
    "        avg_AHP_halfwidth = np.nanmean(AHP_halfwidth_list)\n",
    "        avg_AHP_size = np.nanmean(AHP_sizes)\n",
    "\n",
    "        AP_Properties_Table_All_Spikes = pd.DataFrame({'AP_halfwidth (ms)': AP_halfwidth_list, 'AP_size (mV)': AP_sizes, 'AHP_halfwidth (ms)': AHP_halfwidth_list, \n",
    "        'AHP_size (mV)': AHP_sizes}) \n",
    "\n",
    "        AP_Properties_Table_Avgs = pd.DataFrame({'Sweep_Range': [positive_sweep_number_range], 'AP_Total_Number': AP_Total_Number,'Avg_AP_halfwidth (ms)': [avg_AP_halfwidth] , 'Avg_AP_size (mv)': [avg_AP_size], \n",
    "        'Avg_AHP_halfwidth (ms)': [avg_AHP_halfwidth], 'avg_AHP_size (mV)': [avg_AHP_size]}) \n",
    "\n",
    "        #avg_AHP_halfwidth, avg_AHP_size, avg_AP_halfwidth, avg_AP_size, AP_Total_Number, AP_peaks, AP_sizes, AHP_sizes,\n",
    "    return AP_Properties_Table_All_Spikes, AP_Properties_Table_Avgs \n",
    "\n",
    "#Must save the outputs as variables to print them\n",
    "AP_Properties_Table_All_Spikes, AP_Properties_Table_Avgs = calculate_AP_and_AHP_Properties(positive_sweep_number_range,time,plot=False)\n",
    "\n",
    "AP_Properties_Table_Avgs"
   ]
  },
  {
   "cell_type": "code",
   "execution_count": null,
   "id": "49199763",
   "metadata": {},
   "outputs": [],
   "source": []
  }
 ],
 "metadata": {
  "kernelspec": {
   "display_name": "Ephys_Analysis",
   "language": "python",
   "name": "ephys_analysis"
  },
  "language_info": {
   "codemirror_mode": {
    "name": "ipython",
    "version": 3
   },
   "file_extension": ".py",
   "mimetype": "text/x-python",
   "name": "python",
   "nbconvert_exporter": "python",
   "pygments_lexer": "ipython3",
   "version": "3.10.6"
  }
 },
 "nbformat": 4,
 "nbformat_minor": 5
}
